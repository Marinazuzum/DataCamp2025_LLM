{
 "cells": [
  {
   "cell_type": "code",
   "execution_count": 2,
   "id": "44914296",
   "metadata": {},
   "outputs": [
    {
     "name": "stdout",
     "output_type": "stream",
     "text": [
      "Collecting fastembed\n",
      "  Downloading fastembed-0.7.1-py3-none-any.whl.metadata (10 kB)\n",
      "Collecting huggingface-hub<1.0,>=0.20 (from fastembed)\n",
      "  Downloading huggingface_hub-0.33.0-py3-none-any.whl.metadata (14 kB)\n",
      "Collecting loguru<0.8.0,>=0.7.2 (from fastembed)\n",
      "  Downloading loguru-0.7.3-py3-none-any.whl.metadata (22 kB)\n",
      "Collecting mmh3<6.0.0,>=4.1.0 (from fastembed)\n",
      "  Downloading mmh3-5.1.0-cp311-cp311-macosx_11_0_arm64.whl.metadata (16 kB)\n",
      "Collecting numpy>=1.21 (from fastembed)\n",
      "  Downloading numpy-2.3.0-cp311-cp311-macosx_14_0_arm64.whl.metadata (62 kB)\n",
      "Collecting onnxruntime!=1.20.0,>=1.17.0 (from fastembed)\n",
      "  Downloading onnxruntime-1.22.0-cp311-cp311-macosx_13_0_universal2.whl.metadata (4.5 kB)\n",
      "Collecting pillow<12.0.0,>=10.3.0 (from fastembed)\n",
      "  Downloading pillow-11.2.1-cp311-cp311-macosx_11_0_arm64.whl.metadata (8.9 kB)\n",
      "Collecting py-rust-stemmers<0.2.0,>=0.1.0 (from fastembed)\n",
      "  Downloading py_rust_stemmers-0.1.5-cp311-cp311-macosx_11_0_arm64.whl.metadata (3.4 kB)\n",
      "Requirement already satisfied: requests<3.0,>=2.31 in /Users/marinazdanova/DataTalks_LLM2025/DataCamp2025_LLM/.venv/lib/python3.11/site-packages (from fastembed) (2.32.3)\n",
      "Collecting tokenizers<1.0,>=0.15 (from fastembed)\n",
      "  Using cached tokenizers-0.21.1-cp39-abi3-macosx_11_0_arm64.whl.metadata (6.8 kB)\n",
      "Collecting tqdm<5.0,>=4.66 (from fastembed)\n",
      "  Using cached tqdm-4.67.1-py3-none-any.whl.metadata (57 kB)\n",
      "Collecting filelock (from huggingface-hub<1.0,>=0.20->fastembed)\n",
      "  Using cached filelock-3.18.0-py3-none-any.whl.metadata (2.9 kB)\n",
      "Collecting fsspec>=2023.5.0 (from huggingface-hub<1.0,>=0.20->fastembed)\n",
      "  Downloading fsspec-2025.5.1-py3-none-any.whl.metadata (11 kB)\n",
      "Requirement already satisfied: packaging>=20.9 in /Users/marinazdanova/DataTalks_LLM2025/DataCamp2025_LLM/.venv/lib/python3.11/site-packages (from huggingface-hub<1.0,>=0.20->fastembed) (25.0)\n",
      "Collecting pyyaml>=5.1 (from huggingface-hub<1.0,>=0.20->fastembed)\n",
      "  Using cached PyYAML-6.0.2-cp311-cp311-macosx_11_0_arm64.whl.metadata (2.1 kB)\n",
      "Requirement already satisfied: typing-extensions>=3.7.4.3 in /Users/marinazdanova/DataTalks_LLM2025/DataCamp2025_LLM/.venv/lib/python3.11/site-packages (from huggingface-hub<1.0,>=0.20->fastembed) (4.14.0)\n",
      "Collecting hf-xet<2.0.0,>=1.1.2 (from huggingface-hub<1.0,>=0.20->fastembed)\n",
      "  Downloading hf_xet-1.1.5-cp37-abi3-macosx_11_0_arm64.whl.metadata (879 bytes)\n",
      "Requirement already satisfied: charset-normalizer<4,>=2 in /Users/marinazdanova/DataTalks_LLM2025/DataCamp2025_LLM/.venv/lib/python3.11/site-packages (from requests<3.0,>=2.31->fastembed) (3.4.2)\n",
      "Requirement already satisfied: idna<4,>=2.5 in /Users/marinazdanova/DataTalks_LLM2025/DataCamp2025_LLM/.venv/lib/python3.11/site-packages (from requests<3.0,>=2.31->fastembed) (3.10)\n",
      "Requirement already satisfied: urllib3<3,>=1.21.1 in /Users/marinazdanova/DataTalks_LLM2025/DataCamp2025_LLM/.venv/lib/python3.11/site-packages (from requests<3.0,>=2.31->fastembed) (2.4.0)\n",
      "Requirement already satisfied: certifi>=2017.4.17 in /Users/marinazdanova/DataTalks_LLM2025/DataCamp2025_LLM/.venv/lib/python3.11/site-packages (from requests<3.0,>=2.31->fastembed) (2025.4.26)\n",
      "Collecting coloredlogs (from onnxruntime!=1.20.0,>=1.17.0->fastembed)\n",
      "  Downloading coloredlogs-15.0.1-py2.py3-none-any.whl.metadata (12 kB)\n",
      "Collecting flatbuffers (from onnxruntime!=1.20.0,>=1.17.0->fastembed)\n",
      "  Using cached flatbuffers-25.2.10-py2.py3-none-any.whl.metadata (875 bytes)\n",
      "Collecting protobuf (from onnxruntime!=1.20.0,>=1.17.0->fastembed)\n",
      "  Downloading protobuf-6.31.1-cp39-abi3-macosx_10_9_universal2.whl.metadata (593 bytes)\n",
      "Collecting sympy (from onnxruntime!=1.20.0,>=1.17.0->fastembed)\n",
      "  Downloading sympy-1.14.0-py3-none-any.whl.metadata (12 kB)\n",
      "Collecting humanfriendly>=9.1 (from coloredlogs->onnxruntime!=1.20.0,>=1.17.0->fastembed)\n",
      "  Downloading humanfriendly-10.0-py2.py3-none-any.whl.metadata (9.2 kB)\n",
      "Collecting mpmath<1.4,>=1.1.0 (from sympy->onnxruntime!=1.20.0,>=1.17.0->fastembed)\n",
      "  Using cached mpmath-1.3.0-py3-none-any.whl.metadata (8.6 kB)\n",
      "Downloading fastembed-0.7.1-py3-none-any.whl (100 kB)\n",
      "Downloading huggingface_hub-0.33.0-py3-none-any.whl (514 kB)\n",
      "Downloading hf_xet-1.1.5-cp37-abi3-macosx_11_0_arm64.whl (2.6 MB)\n",
      "\u001b[2K   \u001b[90m━━━━━━━━━━━━━━━━━━━━━━━━━━━━━━━━━━━━━━━━\u001b[0m \u001b[32m2.6/2.6 MB\u001b[0m \u001b[31m7.0 MB/s\u001b[0m eta \u001b[36m0:00:00\u001b[0ma \u001b[36m0:00:01\u001b[0m\n",
      "\u001b[?25hDownloading loguru-0.7.3-py3-none-any.whl (61 kB)\n",
      "Downloading mmh3-5.1.0-cp311-cp311-macosx_11_0_arm64.whl (40 kB)\n",
      "Downloading pillow-11.2.1-cp311-cp311-macosx_11_0_arm64.whl (3.0 MB)\n",
      "\u001b[2K   \u001b[90m━━━━━━━━━━━━━━━━━━━━━━━━━━━━━━━━━━━━━━━━\u001b[0m \u001b[32m3.0/3.0 MB\u001b[0m \u001b[31m6.0 MB/s\u001b[0m eta \u001b[36m0:00:00\u001b[0ma \u001b[36m0:00:01\u001b[0m\n",
      "\u001b[?25hDownloading py_rust_stemmers-0.1.5-cp311-cp311-macosx_11_0_arm64.whl (272 kB)\n",
      "Using cached tokenizers-0.21.1-cp39-abi3-macosx_11_0_arm64.whl (2.7 MB)\n",
      "Using cached tqdm-4.67.1-py3-none-any.whl (78 kB)\n",
      "Downloading fsspec-2025.5.1-py3-none-any.whl (199 kB)\n",
      "Downloading numpy-2.3.0-cp311-cp311-macosx_14_0_arm64.whl (5.4 MB)\n",
      "\u001b[2K   \u001b[90m━━━━━━━━━━━━━━━━━━━━━━━━━━━━━━━━━━━━━━━━\u001b[0m \u001b[32m5.4/5.4 MB\u001b[0m \u001b[31m7.1 MB/s\u001b[0m eta \u001b[36m0:00:00\u001b[0ma \u001b[36m0:00:01\u001b[0m\n",
      "\u001b[?25hDownloading onnxruntime-1.22.0-cp311-cp311-macosx_13_0_universal2.whl (34.3 MB)\n",
      "\u001b[2K   \u001b[90m━━━━━━━━━━━━━━━━━━━━━━━━━━━━━━━━━━━━━━━━\u001b[0m \u001b[32m34.3/34.3 MB\u001b[0m \u001b[31m7.2 MB/s\u001b[0m eta \u001b[36m0:00:00\u001b[0m00:01\u001b[0m00:01\u001b[0m\n",
      "\u001b[?25hUsing cached PyYAML-6.0.2-cp311-cp311-macosx_11_0_arm64.whl (172 kB)\n",
      "Downloading coloredlogs-15.0.1-py2.py3-none-any.whl (46 kB)\n",
      "Downloading humanfriendly-10.0-py2.py3-none-any.whl (86 kB)\n",
      "Using cached filelock-3.18.0-py3-none-any.whl (16 kB)\n",
      "Using cached flatbuffers-25.2.10-py2.py3-none-any.whl (30 kB)\n",
      "Downloading protobuf-6.31.1-cp39-abi3-macosx_10_9_universal2.whl (425 kB)\n",
      "Downloading sympy-1.14.0-py3-none-any.whl (6.3 MB)\n",
      "\u001b[2K   \u001b[90m━━━━━━━━━━━━━━━━━━━━━━━━━━━━━━━━━━━━━━━━\u001b[0m \u001b[32m6.3/6.3 MB\u001b[0m \u001b[31m7.1 MB/s\u001b[0m eta \u001b[36m0:00:00\u001b[0ma \u001b[36m0:00:01\u001b[0m\n",
      "\u001b[?25hUsing cached mpmath-1.3.0-py3-none-any.whl (536 kB)\n",
      "Installing collected packages: py-rust-stemmers, mpmath, flatbuffers, tqdm, sympy, pyyaml, protobuf, pillow, numpy, mmh3, loguru, humanfriendly, hf-xet, fsspec, filelock, huggingface-hub, coloredlogs, tokenizers, onnxruntime, fastembed\n",
      "\u001b[2K   \u001b[90m━━━━━━━━━━━━━━━━━━━━━━━━━━━━━━━━━━━━━━━━\u001b[0m \u001b[32m20/20\u001b[0m [fastembed]20\u001b[0m [fastembed]e]hub]\n",
      "\u001b[1A\u001b[2KSuccessfully installed coloredlogs-15.0.1 fastembed-0.7.1 filelock-3.18.0 flatbuffers-25.2.10 fsspec-2025.5.1 hf-xet-1.1.5 huggingface-hub-0.33.0 humanfriendly-10.0 loguru-0.7.3 mmh3-5.1.0 mpmath-1.3.0 numpy-2.3.0 onnxruntime-1.22.0 pillow-11.2.1 protobuf-6.31.1 py-rust-stemmers-0.1.5 pyyaml-6.0.2 sympy-1.14.0 tokenizers-0.21.1 tqdm-4.67.1\n",
      "Note: you may need to restart the kernel to use updated packages.\n"
     ]
    }
   ],
   "source": [
    "%pip install fastembed"
   ]
  },
  {
   "cell_type": "code",
   "execution_count": 3,
   "id": "98db394a",
   "metadata": {},
   "outputs": [
    {
     "name": "stderr",
     "output_type": "stream",
     "text": [
      "/Users/marinazdanova/DataTalks_LLM2025/DataCamp2025_LLM/.venv/lib/python3.11/site-packages/tqdm/auto.py:21: TqdmWarning: IProgress not found. Please update jupyter and ipywidgets. See https://ipywidgets.readthedocs.io/en/stable/user_install.html\n",
      "  from .autonotebook import tqdm as notebook_tqdm\n"
     ]
    }
   ],
   "source": [
    "from fastembed import TextEmbedding"
   ]
  },
  {
   "cell_type": "code",
   "execution_count": 5,
   "id": "5e9dc540",
   "metadata": {},
   "outputs": [
    {
     "name": "stdout",
     "output_type": "stream",
     "text": [
      "Embedding shape: (512,)\n",
      "Minimal value in the embedding: -0.11726373551188797\n"
     ]
    },
    {
     "data": {
      "text/plain": [
       "np.float64(-0.11726373551188797)"
      ]
     },
     "execution_count": 5,
     "metadata": {},
     "output_type": "execute_result"
    }
   ],
   "source": [
    "## Q1. Embedding the query\n",
    "\n",
    "# Define the query\n",
    "query = \"I just discovered the course. Can I join now?\"\n",
    "\n",
    "# Create the embedding model\n",
    "model = TextEmbedding(model_name=\"jinaai/jina-embeddings-v2-small-en\")\n",
    "\n",
    "# Get the embedding (as a generator, so convert to list/array)\n",
    "import numpy as np\n",
    "embedding = next(model.embed([query]))\n",
    "embedding = np.array(embedding)\n",
    "\n",
    "# Check the shape\n",
    "print(f\"Embedding shape: {embedding.shape}\")\n",
    "\n",
    "# Find the minimal value\n",
    "min_value = embedding.min()\n",
    "print(f\"Minimal value in the embedding: {min_value}\")\n",
    "\n",
    "min_value"
   ]
  },
  {
   "cell_type": "code",
   "execution_count": 6,
   "id": "8ace8cd3",
   "metadata": {},
   "outputs": [
    {
     "name": "stdout",
     "output_type": "stream",
     "text": [
      "Cosine similarity between query and document: 0.9008528856818038\n"
     ]
    },
    {
     "data": {
      "text/plain": [
       "np.float64(0.9008528856818038)"
      ]
     },
     "execution_count": 6,
     "metadata": {},
     "output_type": "execute_result"
    }
   ],
   "source": [
    "## Q2. Cosine similarity with another vector\n",
    "\n",
    "# Embed the document\n",
    "\n",
    "doc = 'Can I still join the course after the start date?'\n",
    "doc_embedding = next(model.embed([doc]))\n",
    "doc_embedding = np.array(doc_embedding)\n",
    "\n",
    "# Compute cosine similarity between query and document embeddings\n",
    "def cosine_similarity(a, b):\n",
    "    return np.dot(a, b) / (np.linalg.norm(a) * np.linalg.norm(b))\n",
    "\n",
    "similarity = cosine_similarity(embedding, doc_embedding)\n",
    "print(f\"Cosine similarity between query and document: {similarity}\")\n",
    "similarity"
   ]
  },
  {
   "cell_type": "code",
   "execution_count": 10,
   "id": "41e5a43a",
   "metadata": {},
   "outputs": [
    {
     "name": "stdout",
     "output_type": "stream",
     "text": [
      "Document embeddings shape: (5, 512)\n",
      "Cosine similarities: [np.float64(0.7629684493123693), np.float64(0.8182378361919107), np.float64(0.8085397290762828), np.float64(0.7133078539597724), np.float64(0.7304499528359614)]\n",
      "Document index with highest similarity: 1\n"
     ]
    },
    {
     "data": {
      "text/plain": [
       "1"
      ]
     },
     "execution_count": 10,
     "metadata": {},
     "output_type": "execute_result"
    }
   ],
   "source": [
    "## Q3. Ranking by cosine\n",
    "\n",
    "# List of documents\n",
    "\n",
    "documents = [{'text': \"Yes, even if you don't register, you're still eligible to submit the homeworks.\\nBe aware, however, that there will be deadlines for turning in the final projects. So don't leave everything for the last minute.\",\n",
    "  'section': 'General course-related questions',\n",
    "  'question': 'Course - Can I still join the course after the start date?',\n",
    "  'course': 'data-engineering-zoomcamp'},\n",
    " {'text': 'Yes, we will keep all the materials after the course finishes, so you can follow the course at your own pace after it finishes.\\nYou can also continue looking at the homeworks and continue preparing for the next cohort. I guess you can also start working on your final capstone project.',\n",
    "  'section': 'General course-related questions',\n",
    "  'question': 'Course - Can I follow the course after it finishes?',\n",
    "  'course': 'data-engineering-zoomcamp'},\n",
    " {'text': \"The purpose of this document is to capture frequently asked technical questions\\nThe exact day and hour of the course will be 15th Jan 2024 at 17h00. The course will start with the first  “Office Hours'' live.1\\nSubscribe to course public Google Calendar (it works from Desktop only).\\nRegister before the course starts using this link.\\nJoin the course Telegram channel with announcements.\\nDon’t forget to register in DataTalks.Club's Slack and join the channel.\",\n",
    "  'section': 'General course-related questions',\n",
    "  'question': 'Course - When will the course start?',\n",
    "  'course': 'data-engineering-zoomcamp'},\n",
    " {'text': 'You can start by installing and setting up all the dependencies and requirements:\\nGoogle cloud account\\nGoogle Cloud SDK\\nPython 3 (installed with Anaconda)\\nTerraform\\nGit\\nLook over the prerequisites and syllabus to see if you are comfortable with these subjects.',\n",
    "  'section': 'General course-related questions',\n",
    "  'question': 'Course - What can I do before the course starts?',\n",
    "  'course': 'data-engineering-zoomcamp'},\n",
    " {'text': 'Star the repo! Share it with friends if you find it useful ❣️\\nCreate a PR if you see you can improve the text or the structure of the repository.',\n",
    "  'section': 'General course-related questions',\n",
    "  'question': 'How can we contribute to the course?',\n",
    "  'course': 'data-engineering-zoomcamp'}]\n",
    "\n",
    "# Compute embeddings for all document texts\n",
    "doc_texts = [doc['text'] for doc in documents]\n",
    "doc_embeddings = list(model.embed(doc_texts))\n",
    "doc_embeddings = np.array(doc_embeddings)\n",
    "print(f\"Document embeddings shape: {doc_embeddings.shape}\")\n",
    "\n",
    "# Compute cosine similarities with the query embedding\n",
    "similarities = [cosine_similarity(embedding, doc_emb) for doc_emb in doc_embeddings]\n",
    "print(f\"Cosine similarities: {similarities}\")\n",
    "\n",
    "# Find the index with the highest similarity\n",
    "best_idx = int(np.argmax(similarities))\n",
    "print(f\"Document index with highest similarity: {best_idx}\")\n",
    "best_idx"
   ]
  },
  {
   "cell_type": "code",
   "execution_count": 11,
   "id": "83cd86b9",
   "metadata": {},
   "outputs": [
    {
     "name": "stdout",
     "output_type": "stream",
     "text": [
      "Full text embeddings shape: (5, 512)\n",
      "Cosine similarities (full_text): [np.float64(0.8514542983476503), np.float64(0.8436594058703555), np.float64(0.8408287206920104), np.float64(0.7755157689596764), np.float64(0.8086007942697778)]\n",
      "Document index with highest similarity (full_text): 0\n"
     ]
    },
    {
     "data": {
      "text/plain": [
       "0"
      ]
     },
     "execution_count": 11,
     "metadata": {},
     "output_type": "execute_result"
    }
   ],
   "source": [
    "## Q4. Ranking by cosine, version two\n",
    "\n",
    "# Compute embeddings for concatenated question + text fields\n",
    "full_texts = [doc['question'] + ' ' + doc['text'] for doc in documents]\n",
    "full_embeddings = list(model.embed(full_texts))\n",
    "full_embeddings = np.array(full_embeddings)\n",
    "print(f\"Full text embeddings shape: {full_embeddings.shape}\")\n",
    "\n",
    "# Compute cosine similarities with the query embedding\n",
    "full_similarities = [cosine_similarity(embedding, full_emb) for full_emb in full_embeddings]\n",
    "print(f\"Cosine similarities (full_text): {full_similarities}\")\n",
    "\n",
    "# Find the index with the highest similarity\n",
    "best_full_idx = int(np.argmax(full_similarities))\n",
    "print(f\"Document index with highest similarity (full_text): {best_full_idx}\")\n",
    "best_full_idx"
   ]
  },
  {
   "cell_type": "code",
   "execution_count": 12,
   "id": "5a34d3ad",
   "metadata": {},
   "outputs": [
    {
     "name": "stderr",
     "output_type": "stream",
     "text": [
      "huggingface/tokenizers: The current process just got forked, after parallelism has already been used. Disabling parallelism to avoid deadlocks...\n",
      "To disable this warning, you can either:\n",
      "\t- Avoid using `tokenizers` before the fork if possible\n",
      "\t- Explicitly set the environment variable TOKENIZERS_PARALLELISM=(true | false)\n"
     ]
    },
    {
     "name": "stdout",
     "output_type": "stream",
     "text": [
      "Requirement already satisfied: fastembed in /Users/marinazdanova/DataTalks_LLM2025/DataCamp2025_LLM/.venv/lib/python3.11/site-packages (0.7.1)\n",
      "Collecting qdrant-client\n",
      "Collecting qdrant-client\n",
      "  Downloading qdrant_client-1.14.3-py3-none-any.whl.metadata (10 kB)\n",
      "Requirement already satisfied: huggingface-hub<1.0,>=0.20 in /Users/marinazdanova/DataTalks_LLM2025/DataCamp2025_LLM/.venv/lib/python3.11/site-packages (from fastembed) (0.33.0)\n",
      "Requirement already satisfied: loguru<0.8.0,>=0.7.2 in /Users/marinazdanova/DataTalks_LLM2025/DataCamp2025_LLM/.venv/lib/python3.11/site-packages (from fastembed) (0.7.3)\n",
      "Requirement already satisfied: mmh3<6.0.0,>=4.1.0 in /Users/marinazdanova/DataTalks_LLM2025/DataCamp2025_LLM/.venv/lib/python3.11/site-packages (from fastembed) (5.1.0)\n",
      "Requirement already satisfied: numpy>=1.21 in /Users/marinazdanova/DataTalks_LLM2025/DataCamp2025_LLM/.venv/lib/python3.11/site-packages (from fastembed) (2.3.0)\n",
      "Requirement already satisfied: onnxruntime!=1.20.0,>=1.17.0 in /Users/marinazdanova/DataTalks_LLM2025/DataCamp2025_LLM/.venv/lib/python3.11/site-packages (from fastembed) (1.22.0)\n",
      "Requirement already satisfied: pillow<12.0.0,>=10.3.0 in /Users/marinazdanova/DataTalks_LLM2025/DataCamp2025_LLM/.venv/lib/python3.11/site-packages (from fastembed) (11.2.1)\n",
      "Requirement already satisfied: py-rust-stemmers<0.2.0,>=0.1.0 in /Users/marinazdanova/DataTalks_LLM2025/DataCamp2025_LLM/.venv/lib/python3.11/site-packages (from fastembed) (0.1.5)\n",
      "Requirement already satisfied: requests<3.0,>=2.31 in /Users/marinazdanova/DataTalks_LLM2025/DataCamp2025_LLM/.venv/lib/python3.11/site-packages (from fastembed) (2.32.3)\n",
      "Requirement already satisfied: tokenizers<1.0,>=0.15 in /Users/marinazdanova/DataTalks_LLM2025/DataCamp2025_LLM/.venv/lib/python3.11/site-packages (from fastembed) (0.21.1)\n",
      "Requirement already satisfied: tqdm<5.0,>=4.66 in /Users/marinazdanova/DataTalks_LLM2025/DataCamp2025_LLM/.venv/lib/python3.11/site-packages (from fastembed) (4.67.1)\n",
      "Requirement already satisfied: filelock in /Users/marinazdanova/DataTalks_LLM2025/DataCamp2025_LLM/.venv/lib/python3.11/site-packages (from huggingface-hub<1.0,>=0.20->fastembed) (3.18.0)\n",
      "Requirement already satisfied: fsspec>=2023.5.0 in /Users/marinazdanova/DataTalks_LLM2025/DataCamp2025_LLM/.venv/lib/python3.11/site-packages (from huggingface-hub<1.0,>=0.20->fastembed) (2025.5.1)\n",
      "Requirement already satisfied: packaging>=20.9 in /Users/marinazdanova/DataTalks_LLM2025/DataCamp2025_LLM/.venv/lib/python3.11/site-packages (from huggingface-hub<1.0,>=0.20->fastembed) (25.0)\n",
      "Requirement already satisfied: pyyaml>=5.1 in /Users/marinazdanova/DataTalks_LLM2025/DataCamp2025_LLM/.venv/lib/python3.11/site-packages (from huggingface-hub<1.0,>=0.20->fastembed) (6.0.2)\n",
      "Requirement already satisfied: typing-extensions>=3.7.4.3 in /Users/marinazdanova/DataTalks_LLM2025/DataCamp2025_LLM/.venv/lib/python3.11/site-packages (from huggingface-hub<1.0,>=0.20->fastembed) (4.14.0)\n",
      "Requirement already satisfied: hf-xet<2.0.0,>=1.1.2 in /Users/marinazdanova/DataTalks_LLM2025/DataCamp2025_LLM/.venv/lib/python3.11/site-packages (from huggingface-hub<1.0,>=0.20->fastembed) (1.1.5)\n",
      "Requirement already satisfied: charset-normalizer<4,>=2 in /Users/marinazdanova/DataTalks_LLM2025/DataCamp2025_LLM/.venv/lib/python3.11/site-packages (from requests<3.0,>=2.31->fastembed) (3.4.2)\n",
      "  Downloading qdrant_client-1.14.3-py3-none-any.whl.metadata (10 kB)\n",
      "Requirement already satisfied: huggingface-hub<1.0,>=0.20 in /Users/marinazdanova/DataTalks_LLM2025/DataCamp2025_LLM/.venv/lib/python3.11/site-packages (from fastembed) (0.33.0)\n",
      "Requirement already satisfied: loguru<0.8.0,>=0.7.2 in /Users/marinazdanova/DataTalks_LLM2025/DataCamp2025_LLM/.venv/lib/python3.11/site-packages (from fastembed) (0.7.3)\n",
      "Requirement already satisfied: mmh3<6.0.0,>=4.1.0 in /Users/marinazdanova/DataTalks_LLM2025/DataCamp2025_LLM/.venv/lib/python3.11/site-packages (from fastembed) (5.1.0)\n",
      "Requirement already satisfied: numpy>=1.21 in /Users/marinazdanova/DataTalks_LLM2025/DataCamp2025_LLM/.venv/lib/python3.11/site-packages (from fastembed) (2.3.0)\n",
      "Requirement already satisfied: onnxruntime!=1.20.0,>=1.17.0 in /Users/marinazdanova/DataTalks_LLM2025/DataCamp2025_LLM/.venv/lib/python3.11/site-packages (from fastembed) (1.22.0)\n",
      "Requirement already satisfied: pillow<12.0.0,>=10.3.0 in /Users/marinazdanova/DataTalks_LLM2025/DataCamp2025_LLM/.venv/lib/python3.11/site-packages (from fastembed) (11.2.1)\n",
      "Requirement already satisfied: py-rust-stemmers<0.2.0,>=0.1.0 in /Users/marinazdanova/DataTalks_LLM2025/DataCamp2025_LLM/.venv/lib/python3.11/site-packages (from fastembed) (0.1.5)\n",
      "Requirement already satisfied: requests<3.0,>=2.31 in /Users/marinazdanova/DataTalks_LLM2025/DataCamp2025_LLM/.venv/lib/python3.11/site-packages (from fastembed) (2.32.3)\n",
      "Requirement already satisfied: tokenizers<1.0,>=0.15 in /Users/marinazdanova/DataTalks_LLM2025/DataCamp2025_LLM/.venv/lib/python3.11/site-packages (from fastembed) (0.21.1)\n",
      "Requirement already satisfied: tqdm<5.0,>=4.66 in /Users/marinazdanova/DataTalks_LLM2025/DataCamp2025_LLM/.venv/lib/python3.11/site-packages (from fastembed) (4.67.1)\n",
      "Requirement already satisfied: filelock in /Users/marinazdanova/DataTalks_LLM2025/DataCamp2025_LLM/.venv/lib/python3.11/site-packages (from huggingface-hub<1.0,>=0.20->fastembed) (3.18.0)\n",
      "Requirement already satisfied: fsspec>=2023.5.0 in /Users/marinazdanova/DataTalks_LLM2025/DataCamp2025_LLM/.venv/lib/python3.11/site-packages (from huggingface-hub<1.0,>=0.20->fastembed) (2025.5.1)\n",
      "Requirement already satisfied: packaging>=20.9 in /Users/marinazdanova/DataTalks_LLM2025/DataCamp2025_LLM/.venv/lib/python3.11/site-packages (from huggingface-hub<1.0,>=0.20->fastembed) (25.0)\n",
      "Requirement already satisfied: pyyaml>=5.1 in /Users/marinazdanova/DataTalks_LLM2025/DataCamp2025_LLM/.venv/lib/python3.11/site-packages (from huggingface-hub<1.0,>=0.20->fastembed) (6.0.2)\n",
      "Requirement already satisfied: typing-extensions>=3.7.4.3 in /Users/marinazdanova/DataTalks_LLM2025/DataCamp2025_LLM/.venv/lib/python3.11/site-packages (from huggingface-hub<1.0,>=0.20->fastembed) (4.14.0)\n",
      "Requirement already satisfied: hf-xet<2.0.0,>=1.1.2 in /Users/marinazdanova/DataTalks_LLM2025/DataCamp2025_LLM/.venv/lib/python3.11/site-packages (from huggingface-hub<1.0,>=0.20->fastembed) (1.1.5)\n",
      "Requirement already satisfied: charset-normalizer<4,>=2 in /Users/marinazdanova/DataTalks_LLM2025/DataCamp2025_LLM/.venv/lib/python3.11/site-packages (from requests<3.0,>=2.31->fastembed) (3.4.2)\n",
      "Requirement already satisfied: idna<4,>=2.5 in /Users/marinazdanova/DataTalks_LLM2025/DataCamp2025_LLM/.venv/lib/python3.11/site-packages (from requests<3.0,>=2.31->fastembed) (3.10)\n",
      "Requirement already satisfied: urllib3<3,>=1.21.1 in /Users/marinazdanova/DataTalks_LLM2025/DataCamp2025_LLM/.venv/lib/python3.11/site-packages (from requests<3.0,>=2.31->fastembed) (2.4.0)\n",
      "Requirement already satisfied: certifi>=2017.4.17 in /Users/marinazdanova/DataTalks_LLM2025/DataCamp2025_LLM/.venv/lib/python3.11/site-packages (from requests<3.0,>=2.31->fastembed) (2025.4.26)\n",
      "Requirement already satisfied: idna<4,>=2.5 in /Users/marinazdanova/DataTalks_LLM2025/DataCamp2025_LLM/.venv/lib/python3.11/site-packages (from requests<3.0,>=2.31->fastembed) (3.10)\n",
      "Requirement already satisfied: urllib3<3,>=1.21.1 in /Users/marinazdanova/DataTalks_LLM2025/DataCamp2025_LLM/.venv/lib/python3.11/site-packages (from requests<3.0,>=2.31->fastembed) (2.4.0)\n",
      "Requirement already satisfied: certifi>=2017.4.17 in /Users/marinazdanova/DataTalks_LLM2025/DataCamp2025_LLM/.venv/lib/python3.11/site-packages (from requests<3.0,>=2.31->fastembed) (2025.4.26)\n",
      "Collecting grpcio>=1.41.0 (from qdrant-client)\n",
      "  Downloading grpcio-1.73.0-cp311-cp311-macosx_11_0_universal2.whl.metadata (3.8 kB)\n",
      "Collecting grpcio>=1.41.0 (from qdrant-client)\n",
      "  Downloading grpcio-1.73.0-cp311-cp311-macosx_11_0_universal2.whl.metadata (3.8 kB)\n",
      "Collecting httpx>=0.20.0 (from httpx[http2]>=0.20.0->qdrant-client)\n",
      "  Downloading httpx-0.28.1-py3-none-any.whl.metadata (7.1 kB)\n",
      "Collecting httpx>=0.20.0 (from httpx[http2]>=0.20.0->qdrant-client)\n",
      "  Downloading httpx-0.28.1-py3-none-any.whl.metadata (7.1 kB)\n",
      "Collecting portalocker<3.0.0,>=2.7.0 (from qdrant-client)\n",
      "  Downloading portalocker-2.10.1-py3-none-any.whl.metadata (8.5 kB)\n",
      "Requirement already satisfied: protobuf>=3.20.0 in /Users/marinazdanova/DataTalks_LLM2025/DataCamp2025_LLM/.venv/lib/python3.11/site-packages (from qdrant-client) (6.31.1)\n",
      "Collecting portalocker<3.0.0,>=2.7.0 (from qdrant-client)\n",
      "  Downloading portalocker-2.10.1-py3-none-any.whl.metadata (8.5 kB)\n",
      "Requirement already satisfied: protobuf>=3.20.0 in /Users/marinazdanova/DataTalks_LLM2025/DataCamp2025_LLM/.venv/lib/python3.11/site-packages (from qdrant-client) (6.31.1)\n",
      "Collecting pydantic!=2.0.*,!=2.1.*,!=2.2.0,>=1.10.8 (from qdrant-client)\n",
      "  Downloading pydantic-2.11.7-py3-none-any.whl.metadata (67 kB)\n",
      "Collecting pydantic!=2.0.*,!=2.1.*,!=2.2.0,>=1.10.8 (from qdrant-client)\n",
      "  Downloading pydantic-2.11.7-py3-none-any.whl.metadata (67 kB)\n",
      "Collecting anyio (from httpx>=0.20.0->httpx[http2]>=0.20.0->qdrant-client)\n",
      "  Downloading anyio-4.9.0-py3-none-any.whl.metadata (4.7 kB)\n",
      "Collecting anyio (from httpx>=0.20.0->httpx[http2]>=0.20.0->qdrant-client)\n",
      "  Downloading anyio-4.9.0-py3-none-any.whl.metadata (4.7 kB)\n",
      "Collecting httpcore==1.* (from httpx>=0.20.0->httpx[http2]>=0.20.0->qdrant-client)\n",
      "  Downloading httpcore-1.0.9-py3-none-any.whl.metadata (21 kB)\n",
      "Collecting httpcore==1.* (from httpx>=0.20.0->httpx[http2]>=0.20.0->qdrant-client)\n",
      "  Downloading httpcore-1.0.9-py3-none-any.whl.metadata (21 kB)\n",
      "Collecting h11>=0.16 (from httpcore==1.*->httpx>=0.20.0->httpx[http2]>=0.20.0->qdrant-client)\n",
      "  Downloading h11-0.16.0-py3-none-any.whl.metadata (8.3 kB)\n",
      "Collecting h2<5,>=3 (from httpx[http2]>=0.20.0->qdrant-client)\n",
      "Collecting h11>=0.16 (from httpcore==1.*->httpx>=0.20.0->httpx[http2]>=0.20.0->qdrant-client)\n",
      "  Downloading h11-0.16.0-py3-none-any.whl.metadata (8.3 kB)\n",
      "Collecting h2<5,>=3 (from httpx[http2]>=0.20.0->qdrant-client)\n",
      "  Downloading h2-4.2.0-py3-none-any.whl.metadata (5.1 kB)\n",
      "Collecting hyperframe<7,>=6.1 (from h2<5,>=3->httpx[http2]>=0.20.0->qdrant-client)\n",
      "  Downloading h2-4.2.0-py3-none-any.whl.metadata (5.1 kB)\n",
      "Collecting hyperframe<7,>=6.1 (from h2<5,>=3->httpx[http2]>=0.20.0->qdrant-client)\n",
      "  Downloading hyperframe-6.1.0-py3-none-any.whl.metadata (4.3 kB)\n",
      "Collecting hpack<5,>=4.1 (from h2<5,>=3->httpx[http2]>=0.20.0->qdrant-client)\n",
      "  Downloading hyperframe-6.1.0-py3-none-any.whl.metadata (4.3 kB)\n",
      "Collecting hpack<5,>=4.1 (from h2<5,>=3->httpx[http2]>=0.20.0->qdrant-client)\n",
      "  Downloading hpack-4.1.0-py3-none-any.whl.metadata (4.6 kB)\n",
      "Requirement already satisfied: coloredlogs in /Users/marinazdanova/DataTalks_LLM2025/DataCamp2025_LLM/.venv/lib/python3.11/site-packages (from onnxruntime!=1.20.0,>=1.17.0->fastembed) (15.0.1)\n",
      "Requirement already satisfied: flatbuffers in /Users/marinazdanova/DataTalks_LLM2025/DataCamp2025_LLM/.venv/lib/python3.11/site-packages (from onnxruntime!=1.20.0,>=1.17.0->fastembed) (25.2.10)\n",
      "Requirement already satisfied: sympy in /Users/marinazdanova/DataTalks_LLM2025/DataCamp2025_LLM/.venv/lib/python3.11/site-packages (from onnxruntime!=1.20.0,>=1.17.0->fastembed) (1.14.0)\n",
      "Collecting annotated-types>=0.6.0 (from pydantic!=2.0.*,!=2.1.*,!=2.2.0,>=1.10.8->qdrant-client)\n",
      "  Downloading hpack-4.1.0-py3-none-any.whl.metadata (4.6 kB)\n",
      "Requirement already satisfied: coloredlogs in /Users/marinazdanova/DataTalks_LLM2025/DataCamp2025_LLM/.venv/lib/python3.11/site-packages (from onnxruntime!=1.20.0,>=1.17.0->fastembed) (15.0.1)\n",
      "Requirement already satisfied: flatbuffers in /Users/marinazdanova/DataTalks_LLM2025/DataCamp2025_LLM/.venv/lib/python3.11/site-packages (from onnxruntime!=1.20.0,>=1.17.0->fastembed) (25.2.10)\n",
      "Requirement already satisfied: sympy in /Users/marinazdanova/DataTalks_LLM2025/DataCamp2025_LLM/.venv/lib/python3.11/site-packages (from onnxruntime!=1.20.0,>=1.17.0->fastembed) (1.14.0)\n",
      "Collecting annotated-types>=0.6.0 (from pydantic!=2.0.*,!=2.1.*,!=2.2.0,>=1.10.8->qdrant-client)\n",
      "  Downloading annotated_types-0.7.0-py3-none-any.whl.metadata (15 kB)\n",
      "  Downloading annotated_types-0.7.0-py3-none-any.whl.metadata (15 kB)\n",
      "Collecting pydantic-core==2.33.2 (from pydantic!=2.0.*,!=2.1.*,!=2.2.0,>=1.10.8->qdrant-client)\n",
      "  Downloading pydantic_core-2.33.2-cp311-cp311-macosx_11_0_arm64.whl.metadata (6.8 kB)\n",
      "Collecting typing-inspection>=0.4.0 (from pydantic!=2.0.*,!=2.1.*,!=2.2.0,>=1.10.8->qdrant-client)\n",
      "Collecting pydantic-core==2.33.2 (from pydantic!=2.0.*,!=2.1.*,!=2.2.0,>=1.10.8->qdrant-client)\n",
      "  Downloading pydantic_core-2.33.2-cp311-cp311-macosx_11_0_arm64.whl.metadata (6.8 kB)\n",
      "Collecting typing-inspection>=0.4.0 (from pydantic!=2.0.*,!=2.1.*,!=2.2.0,>=1.10.8->qdrant-client)\n",
      "  Downloading typing_inspection-0.4.1-py3-none-any.whl.metadata (2.6 kB)\n",
      "Collecting sniffio>=1.1 (from anyio->httpx>=0.20.0->httpx[http2]>=0.20.0->qdrant-client)\n",
      "  Downloading sniffio-1.3.1-py3-none-any.whl.metadata (3.9 kB)\n",
      "  Downloading typing_inspection-0.4.1-py3-none-any.whl.metadata (2.6 kB)\n",
      "Collecting sniffio>=1.1 (from anyio->httpx>=0.20.0->httpx[http2]>=0.20.0->qdrant-client)\n",
      "  Downloading sniffio-1.3.1-py3-none-any.whl.metadata (3.9 kB)\n",
      "Requirement already satisfied: humanfriendly>=9.1 in /Users/marinazdanova/DataTalks_LLM2025/DataCamp2025_LLM/.venv/lib/python3.11/site-packages (from coloredlogs->onnxruntime!=1.20.0,>=1.17.0->fastembed) (10.0)\n",
      "Requirement already satisfied: mpmath<1.4,>=1.1.0 in /Users/marinazdanova/DataTalks_LLM2025/DataCamp2025_LLM/.venv/lib/python3.11/site-packages (from sympy->onnxruntime!=1.20.0,>=1.17.0->fastembed) (1.3.0)\n",
      "Downloading qdrant_client-1.14.3-py3-none-any.whl (328 kB)\n",
      "Requirement already satisfied: humanfriendly>=9.1 in /Users/marinazdanova/DataTalks_LLM2025/DataCamp2025_LLM/.venv/lib/python3.11/site-packages (from coloredlogs->onnxruntime!=1.20.0,>=1.17.0->fastembed) (10.0)\n",
      "Requirement already satisfied: mpmath<1.4,>=1.1.0 in /Users/marinazdanova/DataTalks_LLM2025/DataCamp2025_LLM/.venv/lib/python3.11/site-packages (from sympy->onnxruntime!=1.20.0,>=1.17.0->fastembed) (1.3.0)\n",
      "Downloading qdrant_client-1.14.3-py3-none-any.whl (328 kB)\n",
      "Downloading portalocker-2.10.1-py3-none-any.whl (18 kB)\n",
      "Downloading portalocker-2.10.1-py3-none-any.whl (18 kB)\n",
      "Downloading grpcio-1.73.0-cp311-cp311-macosx_11_0_universal2.whl (10.6 MB)\n",
      "\u001b[?25l   \u001b[90m━━━━━━━━━━━━━━━━━━━━━━━━━━━━━━━━━━━━━━━━\u001b[0m \u001b[32m0.0/10.6 MB\u001b[0m \u001b[31m?\u001b[0m eta \u001b[36m-:--:--\u001b[0mDownloading grpcio-1.73.0-cp311-cp311-macosx_11_0_universal2.whl (10.6 MB)\n",
      "\u001b[2K   \u001b[90m━━━━━━━━━━━━━━━━━━━━━━━━━━━━━━━━━━━━━━━━\u001b[0m \u001b[32m10.6/10.6 MB\u001b[0m \u001b[31m7.1 MB/s\u001b[0m eta \u001b[36m0:00:00\u001b[0ma \u001b[36m0:00:01\u001b[0m\n",
      "\u001b[?25hDownloading httpx-0.28.1-py3-none-any.whl (73 kB)\n",
      "\u001b[2K   \u001b[90m━━━━━━━━━━━━━━━━━━━━━━━━━━━━━━━━━━━━━━━━\u001b[0m \u001b[32m10.6/10.6 MB\u001b[0m \u001b[31m7.1 MB/s\u001b[0m eta \u001b[36m0:00:00\u001b[0m\n",
      "\u001b[?25hDownloading httpx-0.28.1-py3-none-any.whl (73 kB)\n",
      "Downloading httpcore-1.0.9-py3-none-any.whl (78 kB)\n",
      "Downloading h11-0.16.0-py3-none-any.whl (37 kB)\n",
      "Downloading httpcore-1.0.9-py3-none-any.whl (78 kB)\n",
      "Downloading h11-0.16.0-py3-none-any.whl (37 kB)\n",
      "Downloading h2-4.2.0-py3-none-any.whl (60 kB)\n",
      "Downloading hpack-4.1.0-py3-none-any.whl (34 kB)\n",
      "Downloading h2-4.2.0-py3-none-any.whl (60 kB)\n",
      "Downloading hpack-4.1.0-py3-none-any.whl (34 kB)\n",
      "Downloading hyperframe-6.1.0-py3-none-any.whl (13 kB)\n",
      "Downloading pydantic-2.11.7-py3-none-any.whl (444 kB)\n",
      "Downloading hyperframe-6.1.0-py3-none-any.whl (13 kB)\n",
      "Downloading pydantic-2.11.7-py3-none-any.whl (444 kB)\n",
      "Downloading pydantic_core-2.33.2-cp311-cp311-macosx_11_0_arm64.whl (1.9 MB)\n",
      "\u001b[?25l   \u001b[90m━━━━━━━━━━━━━━━━━━━━━━━━━━━━━━━━━━━━━━━━\u001b[0m \u001b[32m0.0/1.9 MB\u001b[0m \u001b[31m?\u001b[0m eta \u001b[36m-:--:--\u001b[0mDownloading pydantic_core-2.33.2-cp311-cp311-macosx_11_0_arm64.whl (1.9 MB)\n",
      "\u001b[2K   \u001b[90m━━━━━━━━━━━━━━━━━━━━━━━━━━━━━━━━━━━━━━━━\u001b[0m \u001b[32m1.9/1.9 MB\u001b[0m \u001b[31m7.0 MB/s\u001b[0m eta \u001b[36m0:00:00\u001b[0ma \u001b[36m0:00:01\u001b[0m\n",
      "\u001b[?25hDownloading annotated_types-0.7.0-py3-none-any.whl (13 kB)\n",
      "Downloading typing_inspection-0.4.1-py3-none-any.whl (14 kB)\n",
      "\u001b[2K   \u001b[90m━━━━━━━━━━━━━━━━━━━━━━━━━━━━━━━━━━━━━━━━\u001b[0m \u001b[32m1.9/1.9 MB\u001b[0m \u001b[31m7.0 MB/s\u001b[0m eta \u001b[36m0:00:00\u001b[0m\n",
      "\u001b[?25hDownloading annotated_types-0.7.0-py3-none-any.whl (13 kB)\n",
      "Downloading typing_inspection-0.4.1-py3-none-any.whl (14 kB)\n",
      "Downloading anyio-4.9.0-py3-none-any.whl (100 kB)\n",
      "Downloading anyio-4.9.0-py3-none-any.whl (100 kB)\n",
      "Downloading sniffio-1.3.1-py3-none-any.whl (10 kB)\n",
      "Downloading sniffio-1.3.1-py3-none-any.whl (10 kB)\n",
      "Installing collected packages: typing-inspection, sniffio, pydantic-core, portalocker, hyperframe, hpack, h11, grpcio, annotated-types, pydantic, httpcore, h2, anyio, httpx, qdrant-client\n",
      "\u001b[?25lInstalling collected packages: typing-inspection, sniffio, pydantic-core, portalocker, hyperframe, hpack, h11, grpcio, annotated-types, pydantic, httpcore, h2, anyio, httpx, qdrant-client\n",
      "\u001b[2K   \u001b[90m━━━━━━━━━━━━━━━━━━━━━━━━━━━━━━━━━━━━━━━━\u001b[0m \u001b[32m15/15\u001b[0m [qdrant-client]0m [qdrant-client]\n",
      "\u001b[1A\u001b[2KSuccessfully installed annotated-types-0.7.0 anyio-4.9.0 grpcio-1.73.0 h11-0.16.0 h2-4.2.0 hpack-4.1.0 httpcore-1.0.9 httpx-0.28.1 hyperframe-6.1.0 portalocker-2.10.1 pydantic-2.11.7 pydantic-core-2.33.2 qdrant-client-1.14.3 sniffio-1.3.1 typing-inspection-0.4.1\n",
      "\u001b[2K   \u001b[90m━━━━━━━━━━━━━━━━━━━━━━━━━━━━━━━━━━━━━━━━\u001b[0m \u001b[32m15/15\u001b[0m [qdrant-client]\n",
      "\u001b[1A\u001b[2KSuccessfully installed annotated-types-0.7.0 anyio-4.9.0 grpcio-1.73.0 h11-0.16.0 h2-4.2.0 hpack-4.1.0 httpcore-1.0.9 httpx-0.28.1 hyperframe-6.1.0 portalocker-2.10.1 pydantic-2.11.7 pydantic-core-2.33.2 qdrant-client-1.14.3 sniffio-1.3.1 typing-inspection-0.4.1\n",
      "Note: you may need to restart the kernel to use updated packages.\n",
      "Note: you may need to restart the kernel to use updated packages.\n"
     ]
    }
   ],
   "source": [
    "# Install required libraries\n",
    "%pip install fastembed qdrant-client"
   ]
  },
  {
   "cell_type": "code",
   "execution_count": 13,
   "id": "32c68f6c",
   "metadata": {},
   "outputs": [
    {
     "name": "stdout",
     "output_type": "stream",
     "text": [
      "Number of ML Zoomcamp FAQ records: 375\n"
     ]
    }
   ],
   "source": [
    "## Q6. Indexing with qdrant (2 points)\n",
    "\n",
    "# Download the FAQ records for machine-learning-zoomcamp\n",
    "import requests\n",
    "\n",
    "docs_url = 'https://github.com/alexeygrigorev/llm-rag-workshop/raw/main/notebooks/documents.json'\n",
    "docs_response = requests.get(docs_url)\n",
    "documents_raw = docs_response.json()\n",
    "\n",
    "documents = []\n",
    "for course in documents_raw:\n",
    "    course_name = course['course']\n",
    "    if course_name != 'machine-learning-zoomcamp':\n",
    "        continue\n",
    "    for doc in course['documents']:\n",
    "        doc['course'] = course_name\n",
    "        documents.append(doc)\n",
    "\n",
    "print(f\"Number of ML Zoomcamp FAQ records: {len(documents)}\")"
   ]
  },
  {
   "cell_type": "code",
   "execution_count": 14,
   "id": "68380e17",
   "metadata": {},
   "outputs": [
    {
     "name": "stderr",
     "output_type": "stream",
     "text": [
      "Fetching 5 files: 100%|██████████| 5/5 [00:18<00:00,  3.80s/it]\n",
      "\n"
     ]
    }
   ],
   "source": [
    "# Prepare the embedding model\n",
    "from fastembed import TextEmbedding\n",
    "\n",
    "model = TextEmbedding(model_name=\"BAAI/bge-small-en\")"
   ]
  },
  {
   "cell_type": "code",
   "execution_count": 15,
   "id": "e37d4146",
   "metadata": {},
   "outputs": [
    {
     "name": "stderr",
     "output_type": "stream",
     "text": [
      "/var/folders/vd/dl48s8js5_z0k6_rb5jv19xw0000gn/T/ipykernel_19517/1169140143.py:8: DeprecationWarning: `recreate_collection` method is deprecated and will be removed in the future. Use `collection_exists` to check collection existence and `create_collection` instead.\n",
      "  qdrant.recreate_collection(\n"
     ]
    },
    {
     "data": {
      "text/plain": [
       "True"
      ]
     },
     "execution_count": 15,
     "metadata": {},
     "output_type": "execute_result"
    }
   ],
   "source": [
    "# Prepare Qdrant client and collection\n",
    "from qdrant_client import QdrantClient\n",
    "from qdrant_client.models import VectorParams, Distance\n",
    "\n",
    "qdrant = QdrantClient(\":memory:\")  # Use in-memory Qdrant for demo; replace with host/port for persistent\n",
    "\n",
    "collection_name = \"ml_zoomcamp_faq\"\n",
    "qdrant.recreate_collection(\n",
    "    collection_name=collection_name,\n",
    "    vectors_config=VectorParams(size=384, distance=Distance.COSINE)\n",
    ")"
   ]
  },
  {
   "cell_type": "code",
   "execution_count": 16,
   "id": "f3dae55d",
   "metadata": {},
   "outputs": [
    {
     "name": "stderr",
     "output_type": "stream",
     "text": [
      "100%|██████████| 375/375 [00:06<00:00, 54.78it/s]"
     ]
    },
    {
     "name": "stdout",
     "output_type": "stream",
     "text": [
      "Documents uploaded to Qdrant.\n"
     ]
    },
    {
     "name": "stderr",
     "output_type": "stream",
     "text": [
      "\n"
     ]
    }
   ],
   "source": [
    "# Add documents to Qdrant\n",
    "from tqdm import tqdm\n",
    "\n",
    "payloads = []\n",
    "vectors = []\n",
    "for doc in tqdm(documents):\n",
    "    text = (doc.get(\"question\", \"\") or \"\") + \" \" + (doc.get(\"text\", \"\") or \"\")\n",
    "    payloads.append(doc)\n",
    "    # Get embedding for the concatenated text\n",
    "    vector = next(model.embed([text]))\n",
    "    vectors.append(vector)\n",
    "\n",
    "qdrant.upload_collection(\n",
    "    collection_name=collection_name,\n",
    "    vectors=vectors,\n",
    "    payload=payloads,\n",
    "    ids=None,  # Let Qdrant auto-assign IDs\n",
    "    batch_size=64\n",
    ")\n",
    "print(\"Documents uploaded to Qdrant.\")"
   ]
  },
  {
   "cell_type": "code",
   "execution_count": 23,
   "id": "95d48bdd",
   "metadata": {},
   "outputs": [
    {
     "name": "stdout",
     "output_type": "stream",
     "text": [
      "Number of results found: 5\n",
      "Highest score in the results: 0.87\n",
      "Document ID: d4ec3b0e-3739-440c-a7f0-3abcfd548ca8\n",
      "Score: 0.87\n",
      "Payload: {'text': 'Yes, you can. You won’t be able to submit some of the homeworks, but you can still take part in the course.\\nIn order to get a certificate, you need to submit 2 out of 3 course projects and review 3 peers’ Projects by the deadline. It means that if you join the course at the end of November and manage to work on two projects, you will still be eligible for a certificate.', 'section': 'General course-related questions', 'question': 'The course has already started. Can I still join it?', 'course': 'machine-learning-zoomcamp'}\n",
      "\n",
      "\n",
      "Document ID: 646c9c4e-4ad8-47a8-bba1-edeb33eacef4\n",
      "Score: 0.87\n",
      "Payload: {'text': 'Approximately 4 months, but may take more if you want to do some extra activities (an extra project, an article, etc)', 'section': 'General course-related questions', 'question': 'How long is the course?', 'course': 'machine-learning-zoomcamp'}\n",
      "\n",
      "\n",
      "Document ID: 47a8db4c-30a5-4229-87cb-3089bbc01cdb\n",
      "Score: 0.87\n",
      "Payload: {'text': \"Here’s how you join a in Slack: https://slack.com/help/articles/205239967-Join-a-channel\\nClick “All channels” at the top of your left sidebar. If you don't see this option, click “More” to find it.\\nBrowse the list of public channels in your workspace, or use the search bar to search by channel name or description.\\nSelect a channel from the list to view it.\\nClick Join Channel.\\nDo we need to provide the GitHub link to only our code corresponding to the homework questions?\\nYes. You are required to provide the URL to your repo in order to receive a grade\", 'section': 'General course-related questions', 'question': 'I’m new to Slack and can’t find the course channel. Where is it?', 'course': 'machine-learning-zoomcamp'}\n",
      "\n",
      "\n",
      "Document ID: 5ccbe3a8-af21-4fc4-8589-9d2057894f31\n",
      "Score: 0.86\n",
      "Payload: {'text': 'TODO', 'section': '10. Kubernetes and TensorFlow Serving', 'question': 'How to get started with Week 10?', 'course': 'machine-learning-zoomcamp'}\n",
      "\n",
      "\n",
      "Document ID: e48d0e95-9be0-49fe-a46c-6ada4da09146\n",
      "Score: 0.86\n",
      "Payload: {'text': 'Welcome to the course! Go to the course page (http://mlzoomcamp.com/), scroll down and start going through the course materials. Then read everything in the cohort folder for your cohort’s year.\\nClick on the links and start watching the videos. Also watch office hours from previous cohorts. Go to DTC youtube channel and click on Playlists and search for {course yyyy}. ML Zoomcamp was first launched in 2021.\\nOr you can just use this link: http://mlzoomcamp.com/#syllabus', 'section': 'General course-related questions', 'question': 'I just joined. What should I do next? How can I access course materials?', 'course': 'machine-learning-zoomcamp'}\n",
      "\n",
      "\n"
     ]
    },
    {
     "name": "stderr",
     "output_type": "stream",
     "text": [
      "/var/folders/vd/dl48s8js5_z0k6_rb5jv19xw0000gn/T/ipykernel_19517/2061679989.py:5: DeprecationWarning: `search` method is deprecated and will be removed in the future. Use `query_points` instead.\n",
      "  search_result = qdrant.search(\n"
     ]
    }
   ],
   "source": [
    "# Query the collection with the question from Q1\n",
    "query = \"I just discovered the course. Can I join now?\"\n",
    "query_vector = next(model.embed([query]))\n",
    "\n",
    "search_result = qdrant.search(\n",
    "    collection_name=collection_name,\n",
    "    query_vector=query_vector,\n",
    "    limit=5\n",
    ")\n",
    "\n",
    "print(f\"Number of results found: {len(search_result)}\")\n",
    "\n",
    "print(f\"Highest score in the results: {search_result[0].score:.2f}\")\n",
    "search_result[0].score\n",
    "\n",
    "# print first documents and scores\n",
    "for result in search_result:\n",
    "    print(f\"Document ID: {result.id}\\nScore: {result.score:.2f}\\nPayload: {result.payload}\\n\\n\")"
   ]
  },
  {
   "cell_type": "markdown",
   "id": "aedbc761",
   "metadata": {},
   "source": [
    "The highest score in the results will be printed above. Based on typical results for this setup, the closest answer is **0.87**."
   ]
  }
 ],
 "metadata": {
  "kernelspec": {
   "display_name": ".venv",
   "language": "python",
   "name": "python3"
  },
  "language_info": {
   "codemirror_mode": {
    "name": "ipython",
    "version": 3
   },
   "file_extension": ".py",
   "mimetype": "text/x-python",
   "name": "python",
   "nbconvert_exporter": "python",
   "pygments_lexer": "ipython3",
   "version": "3.11.0"
  }
 },
 "nbformat": 4,
 "nbformat_minor": 5
}
