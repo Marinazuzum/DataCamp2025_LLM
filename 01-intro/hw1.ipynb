{
 "cells": [
  {
   "cell_type": "code",
   "execution_count": 1,
   "id": "04d47bdd",
   "metadata": {},
   "outputs": [
    {
     "name": "stdout",
     "output_type": "stream",
     "text": [
      "Download successful!\n"
     ]
    }
   ],
   "source": [
    "import requests\n",
    "\n",
    "# Use the correct raw GitHub URL\n",
    "docs_url = 'https://raw.githubusercontent.com/DataTalksClub/llm-zoomcamp/main/01-intro/documents.json'\n",
    "headers = {'User-Agent': 'Mozilla/5.0'}\n",
    "try:\n",
    "    docs_response = requests.get(docs_url, headers=headers, timeout=10)\n",
    "    docs_response.raise_for_status()\n",
    "    documents_raw = docs_response.json()\n",
    "    print('Download successful!')\n",
    "except requests.exceptions.RequestException as e:\n",
    "    print(f'Error downloading file: {e}')"
   ]
  },
  {
   "cell_type": "code",
   "execution_count": 2,
   "id": "b871e7da",
   "metadata": {},
   "outputs": [
    {
     "name": "stdout",
     "output_type": "stream",
     "text": [
      "Course: data-engineering-zoomcamp, Number of documents: 435\n",
      "Course: machine-learning-zoomcamp, Number of documents: 375\n",
      "Course: mlops-zoomcamp, Number of documents: 138\n"
     ]
    }
   ],
   "source": [
    "documents = []\n",
    "\n",
    "for course in documents_raw:\n",
    "    course_name = course['course']\n",
    "    num_docs = len(course['documents'])\n",
    "    print(f\"Course: {course_name}, Number of documents: {num_docs}\")\n",
    "\n",
    "    for doc in course['documents']:\n",
    "        doc['course'] = course_name\n",
    "        documents.append(doc)"
   ]
  },
  {
   "cell_type": "code",
   "execution_count": 3,
   "id": "a98c7845",
   "metadata": {},
   "outputs": [
    {
     "name": "stdout",
     "output_type": "stream",
     "text": [
      "Connected! Cluster info: {'name': 'MacBook-Pro-2', 'cluster_name': 'elasticsearch', 'cluster_uuid': 'YEQ4bsjDT8qOlij-7c_bCQ', 'version': {'number': '8.17.6', 'build_flavor': 'default', 'build_type': 'tar', 'build_hash': 'dbcbbbd0bc4924cfeb28929dc05d82d662c527b7', 'build_date': '2025-04-30T14:07:12.231372970Z', 'build_snapshot': False, 'lucene_version': '9.12.0', 'minimum_wire_compatibility_version': '7.17.0', 'minimum_index_compatibility_version': '7.0.0'}, 'tagline': 'You Know, for Search'}\n",
      "Indexing complete!\n",
      "Indexing complete!\n"
     ]
    }
   ],
   "source": [
    "from elasticsearch import Elasticsearch\n",
    "\n",
    "# Connect to Elasticsearch (assumes running locally, security disabled)\n",
    "es = Elasticsearch(\"http://localhost:9200\")\n",
    "try:\n",
    "    info = es.info()\n",
    "    print(\"Connected! Cluster info:\", info)\n",
    "except Exception as e:\n",
    "    print(\"Connection failed:\", e)\n",
    "\n",
    "# Define the index mapping\n",
    "mapping = {\n",
    "    \"mappings\": {\n",
    "        \"properties\": {\n",
    "            \"question\": {\"type\": \"text\"},\n",
    "            \"text\": {\"type\": \"text\"},\n",
    "            \"section\": {\"type\": \"text\"},\n",
    "            \"course\": {\"type\": \"keyword\"}\n",
    "        }\n",
    "    }\n",
    "}\n",
    "\n",
    "# Create the index (delete if exists)\n",
    "index_name = \"faq\"\n",
    "if es.indices.exists(index=index_name):\n",
    "    es.indices.delete(index=index_name)\n",
    "es.indices.create(index=index_name, body=mapping)\n",
    "\n",
    "# Index the documents\n",
    "for doc in documents:\n",
    "    es.index(index=index_name, document={\n",
    "        \"question\": doc.get(\"question\", \"\"),\n",
    "        \"text\": doc.get(\"text\", \"\"),\n",
    "        \"section\": doc.get(\"section\", \"\"),\n",
    "        \"course\": doc.get(\"course\", \"\")\n",
    "    })\n",
    "\n",
    "print(\"Indexing complete!\")"
   ]
  },
  {
   "cell_type": "code",
   "execution_count": 5,
   "id": "5ec8b081",
   "metadata": {},
   "outputs": [
    {
     "name": "stdout",
     "output_type": "stream",
     "text": [
      "Score: 44.50556\n",
      "Question: How do I debug a docker container?\n",
      "Text: Launch the container image in interactive mode and overriding the entrypoint, so that it starts a bash command.\n",
      "docker run -it --entrypoint bash <image>\n",
      "If the container is already running, execute a ...\n",
      "----------------------------------------\n",
      "Score: 35.433445\n",
      "Question: Kubernetes-dashboard\n",
      "Text: Deploy and Access the Kubernetes Dashboard\n",
      "Luke...\n",
      "----------------------------------------\n",
      "Score: 33.70974\n",
      "Question: How do I copy files from a different folder into docker container’s working directory?\n",
      "Text: You can copy files from your local machine into a Docker container using the docker cp command. Here's how to do it:\n",
      "In the Dockerfile, you can provide the folder containing the files that you want to...\n",
      "----------------------------------------\n"
     ]
    }
   ],
   "source": [
    "from elasticsearch import Elasticsearch\n",
    "\n",
    "es = Elasticsearch(\"http://localhost:9200\")\n",
    "\n",
    "# Search for the query and print only the first 3 hits\n",
    "query = {\n",
    "    \"query\": {\n",
    "        \"multi_match\": {\n",
    "            \"query\": \"How do execute a command on a Kubernetes pod?\",\n",
    "            \"fields\": [\"question^4\", \"text\"],\n",
    "            \"type\": \"best_fields\"\n",
    "        }\n",
    "    }\n",
    "}\n",
    "\n",
    "response = es.search(index=\"faq\", body=query)\n",
    "\n",
    "for hit in response[\"hits\"][\"hits\"][:3]:\n",
    "    print(f\"Score: {hit['_score']}\")\n",
    "    print(f\"Question: {hit['_source'].get('question')}\")\n",
    "    print(f\"Text: {hit['_source'].get('text')[:200]}...\")\n",
    "    print('-'*40)\n"
   ]
  },
  {
   "cell_type": "code",
   "execution_count": 7,
   "id": "37507d39",
   "metadata": {},
   "outputs": [
    {
     "name": "stdout",
     "output_type": "stream",
     "text": [
      "Score: 73.38676\n",
      "Course: machine-learning-zoomcamp\n",
      "Question: How do I debug a docker container?\n",
      "Text: Launch the container image in interactive mode and overriding the entrypoint, so that it starts a bash command.\n",
      "docker run -it --entrypoint bash <image>\n",
      "If the container is already running, execute a ...\n",
      "----------------------------------------\n",
      "Score: 66.688705\n",
      "Course: machine-learning-zoomcamp\n",
      "Question: How do I copy files from my local machine to docker container?\n",
      "Text: You can copy files from your local machine into a Docker container using the docker cp command. Here's how to do it:\n",
      "To copy a file or directory from your local machine into a running Docker container...\n",
      "----------------------------------------\n",
      "Score: 59.812744\n",
      "Course: machine-learning-zoomcamp\n",
      "Question: How do I copy files from a different folder into docker container’s working directory?\n",
      "Text: You can copy files from your local machine into a Docker container using the docker cp command. Here's how to do it:\n",
      "In the Dockerfile, you can provide the folder containing the files that you want to...\n",
      "----------------------------------------\n"
     ]
    }
   ],
   "source": [
    "# Search for the new question, filter by course, and print only the first 3 hits\n",
    "query = {\n",
    "    \"query\": {\n",
    "        \"bool\": {\n",
    "            \"must\": [\n",
    "                {\n",
    "                    \"multi_match\": {\n",
    "                        \"query\": \"How do copy a file to a Docker container?\",\n",
    "                        \"fields\": [\"question^4\", \"text\"],\n",
    "                        \"type\": \"best_fields\"\n",
    "                    }\n",
    "                }\n",
    "            ],\n",
    "            \"filter\": [\n",
    "                {\n",
    "                    \"term\": {\n",
    "                        \"course\": \"machine-learning-zoomcamp\"\n",
    "                    }\n",
    "                }\n",
    "            ]\n",
    "        }\n",
    "    }\n",
    "}\n",
    "\n",
    "response = es.search(index=\"faq\", body=query)\n",
    "\n",
    "for hit in response[\"hits\"][\"hits\"][:3]:\n",
    "    print(f\"Score: {hit['_score']}\")\n",
    "    print(f\"Course: {hit['_source'].get('course')}\")\n",
    "    print(f\"Question: {hit['_source'].get('question')}\")\n",
    "    print(f\"Text: {hit['_source'].get('text')[:200]}...\")\n",
    "    print('-'*40)\n"
   ]
  },
  {
   "cell_type": "code",
   "execution_count": 12,
   "id": "e9ab3e93",
   "metadata": {},
   "outputs": [
    {
     "name": "stdout",
     "output_type": "stream",
     "text": [
      "Prompt length: 1462\n",
      "\n",
      "---\n",
      "\n",
      "You're a course teaching assistant. Answer the QUESTION based on the CONTEXT from the FAQ database.\n",
      "Use only the facts from the CONTEXT when answering the QUESTION.\n",
      "\n",
      "QUESTION: How do I execute a command in a running docker container?\n",
      "\n",
      "CONTEXT:\n",
      "Q: How do I debug a docker container?\n",
      "A: Launch the container image in interactive mode and overriding the entrypoint, so that it starts a bash command.\n",
      "docker run -it --entrypoint bash <image>\n",
      "If the container is already running, execute a command in the specific container:\n",
      "docker ps (find the container-id)\n",
      "docker exec -it <container-id> bash\n",
      "(Marcos MJD)\n",
      "\n",
      "Q: How do I copy files from my local machine to docker container?\n",
      "A: You can copy files from your local machine into a Docker container using the docker cp command. Here's how to do it:\n",
      "To copy a file or directory from your local machine into a running Docker container, you can use the `docker cp command`. The basic syntax is as follows:\n",
      "docker cp /path/to/local/file_or_directory container_id:/path/in/container\n",
      "Hrithik Kumar Advani\n",
      "\n",
      "Q: How do I copy files from a different folder into docker container’s working directory?\n",
      "A: You can copy files from your local machine into a Docker container using the docker cp command. Here's how to do it:\n",
      "In the Dockerfile, you can provide the folder containing the files that you want to copy over. The basic syntax is as follows:\n",
      "COPY [\"src/predict.py\", \"models/xgb_model.bin\", \"./\"]\t\t\t\t\t\t\t\t\t\t\tGopakumar Gopinathan\n"
     ]
    }
   ],
   "source": [
    "# Build context from the top 3 hits of the previous search\n",
    "context_entries = []\n",
    "for hit in response[\"hits\"][\"hits\"][:3]:\n",
    "    q = hit['_source'].get('question', '')\n",
    "    a = hit['_source'].get('text', '')\n",
    "    context_entries.append(f\"Q: {q}\\nA: {a}\")\n",
    "context = \"\\n\\n\".join(context_entries).strip()\n",
    "\n",
    "# Build the prompt\n",
    "question = \"How do I execute a command in a running docker container?\"\n",
    "prompt_template = '''\n",
    "You're a course teaching assistant. Answer the QUESTION based on the CONTEXT from the FAQ database.\n",
    "Use only the facts from the CONTEXT when answering the QUESTION.\n",
    "\n",
    "QUESTION: {question}\n",
    "\n",
    "CONTEXT:\n",
    "{context}\n",
    "'''.strip()\n",
    "\n",
    "prompt = prompt_template.format(question=question, context=context)\n",
    "print(f\"Prompt length: {len(prompt)}\")\n",
    "print(\"\\n---\\n\")\n",
    "print(prompt[:2500] + (\"...\" if len(prompt) > 2500 else \"\"))"
   ]
  },
  {
   "cell_type": "code",
   "execution_count": 13,
   "id": "b3830e0e",
   "metadata": {},
   "outputs": [
    {
     "name": "stdout",
     "output_type": "stream",
     "text": [
      "Number of tokens in the prompt: 322\n"
     ]
    }
   ],
   "source": [
    "# Calculate the number of tokens in the prompt using tiktoken\n",
    "import tiktoken\n",
    "encoding = tiktoken.encoding_for_model(\"gpt-4o\")\n",
    "num_tokens = len(encoding.encode(prompt))\n",
    "print(f\"Number of tokens in the prompt: {num_tokens}\")"
   ]
  }
 ],
 "metadata": {
  "kernelspec": {
   "display_name": ".venv",
   "language": "python",
   "name": "python3"
  },
  "language_info": {
   "codemirror_mode": {
    "name": "ipython",
    "version": 3
   },
   "file_extension": ".py",
   "mimetype": "text/x-python",
   "name": "python",
   "nbconvert_exporter": "python",
   "pygments_lexer": "ipython3",
   "version": "3.11.0"
  }
 },
 "nbformat": 4,
 "nbformat_minor": 5
}
